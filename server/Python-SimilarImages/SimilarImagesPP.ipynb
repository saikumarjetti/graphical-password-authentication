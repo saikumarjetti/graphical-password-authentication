{
 "cells": [
  {
   "cell_type": "code",
   "execution_count": null,
   "metadata": {},
   "outputs": [],
   "source": [
    "%pip install DeepImageSearch --upgrade"
   ]
  },
  {
   "cell_type": "code",
   "execution_count": 8,
   "metadata": {},
   "outputs": [],
   "source": [
    "# image_list = Load_Data().from_folder(['/test'])\n",
    "image_list = Load_Data().from_folder(folder_list=['test/'])\n"
   ]
  },
  {
   "cell_type": "code",
   "execution_count": 9,
   "metadata": {},
   "outputs": [
    {
     "name": "stdout",
     "output_type": "stream",
     "text": [
      "['test/zrciF357bmgDC.png', 'test/zrcWfbtiGLJ55.png', 'test/zrclP1MLzwYOr.png', 'test/zrcDoqbRn4RSM.png', 'test/zrcR9nJqURQwC.png', 'test/zrcgnmjPH8gdw.png', 'test/zrcwEm2wo3CR7.png', 'test/zrc7jwW0GI3SM.png', 'test/zrcsypekNu389.png', 'test/zrcxXBZzMXNxv.png', 'test/zrcpqwIJlybW3.png', 'test/zrcmLjqA2kxj9.png', 'test/zrcAdzluF6Kba.png', 'test/zrcP2UwRWdjyz.png', 'test/zrc2WfBdG5ZdX.png', 'test/zrc88aqq28GHu.png', 'test/zrcSINmGBU8VW.png', 'test/zrcWQizpBTMb2.png', 'test/zrcc1Nrz2TW3A.png', 'test/zrcYg0nkaQdQq.png', 'test/zrc7THC9c02Em.png', 'test/zrc7UfsMkCSuv.png', 'test/zrcAIDykWGVs2.png', 'test/zrcTEk2ncz0Ou.png', 'test/zrchKc5oT1xdW.png', 'test/zrcqQkR0CP9gk.png', 'test/zrcmhoyx1XRhs.png', 'test/zrcfp505goU1o.png', 'test/zrciVLbD4HPYB.png', 'test/zrcWPKb6oYfr3.png', 'test/zrcStTypoOl5B.png', 'test/zrcTaGsnpAN0Y.png', 'test/zrcAIFKKxdqzw.png', 'test/zrc8hfc440d8s.png', 'test/zrcMYq1rlOHng.png', 'test/zrcoRHoRVHe85.png', 'test/zrco5ExwRhwUN.png', 'test/zrc8JCfJEQYtq.png', 'test/zrcSDyUPKOAn3.png', 'test/zrc7K5sYzwuz1.png', 'test/zrcksd2nCb074.png', 'test/zrcbB5bXcgP7v.png', 'test/zrchg5PYx2M1R.png', 'test/zrc2MZZY2vSn5.png', 'test/zrccGSKKKvctD.png', 'test/zrcUKoAMFF2EE.png']\n"
     ]
    }
   ],
   "source": [
    "print(image_list)"
   ]
  },
  {
   "cell_type": "code",
   "execution_count": 10,
   "metadata": {},
   "outputs": [
    {
     "name": "stdout",
     "output_type": "stream",
     "text": [
      "\u001b[91m Please Wait Model Is Loading or Downloading From Server!\n",
      "\u001b[92m Model Loaded Successfully: vgg19\n",
      "\u001b[91m Metadata and Features are already present, Do you want Extract Again? Enter yes or no\n"
     ]
    }
   ],
   "source": [
    "from DeepImageSearch import Load_Data, Search_Setup\n",
    "\n",
    "# Load images from a folder\n",
    "image_list = Load_Data().from_folder(folder_list=['test/'])\n",
    "\n",
    " # Set up the search engine, You can load 'vit_base_patch16_224_in21k', 'resnet50' etc more then 500+ models \n",
    "st = Search_Setup(image_list=image_list, model_name='vgg19', pretrained=True, image_count=100)\n",
    "\n",
    "# Index the images\n",
    "st.run_index()\n",
    "\n",
    "# Get metadata\n",
    "metadata = st.get_image_metadata_file()"
   ]
  },
  {
   "cell_type": "code",
   "execution_count": null,
   "metadata": {},
   "outputs": [
    {
     "name": "stdout",
     "output_type": "stream",
     "text": [
      "\u001b[91m Please Wait Model Is Loading or Downloading From Server!\n",
      "\u001b[92m Model Loaded Successfully: vgg19\n",
      "\u001b[91m Metadata and Features are already present, Do you want Extract Again? Enter yes or no\n"
     ]
    }
   ],
   "source": [
    "from DeepImageSearch import Load_Data, Search_Setup\n",
    "\n",
    "# Load images from a folder\n",
    "image_list = Load_Data().from_folder(folder_list=['test/'])\n",
    "\n",
    " # Set up the search engine, You can load 'vit_base_patch16_224_in21k', 'resnet50' etc more then 500+ models \n",
    "st = Search_Setup(image_list=image_list, model_name='vgg19', pretrained=True, image_count=100)\n",
    "\n",
    "# Index the images\n",
    "st.run_index()\n",
    "\n",
    "# Get metadata\n",
    "metadata = st.get_image_metadata_file()"
   ]
  },
  {
   "cell_type": "code",
   "execution_count": null,
   "metadata": {},
   "outputs": [],
   "source": [
    "\n",
    "# Add new images to the index\n",
    "# st.add_images_to_index(['image_path_1', 'image_path_2'])\n",
    "\n",
    "# Get similar images\n",
    "st.get_similar_images(image_path='zrc7jwW0GI3SM', number_of_images=10)\n",
    "\n",
    "# Plot similar images\n",
    "st.plot_similar_images(image_path='image_path', number_of_images=9)\n",
    "\n",
    "# Update metadata\n",
    "metadata = st.get_image_metadata_file()"
   ]
  }
 ],
 "metadata": {
  "kernelspec": {
   "display_name": "Python 3",
   "language": "python",
   "name": "python3"
  },
  "language_info": {
   "codemirror_mode": {
    "name": "ipython",
    "version": 3
   },
   "file_extension": ".py",
   "mimetype": "text/x-python",
   "name": "python",
   "nbconvert_exporter": "python",
   "pygments_lexer": "ipython3",
   "version": "3.10.10"
  },
  "orig_nbformat": 4
 },
 "nbformat": 4,
 "nbformat_minor": 2
}
